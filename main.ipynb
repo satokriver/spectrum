{
 "cells": [
  {
   "cell_type": "code",
   "execution_count": null,
   "metadata": {},
   "outputs": [],
   "source": [
    "%matplotlib inline\n",
    "\n",
    "img = cv2.imread('img_003_SRF_2_bicubic.png')\n",
    "print(img.shape)\n",
    "img = cv2.cvtColor(img, cv2.COLOR_RGB2GRAY)\n",
    "print(img.shape)\n",
    "arr = np.array(img)\n",
    "plt.imshow(arr)\n",
    "plt.colorbar()\n",
    "plt.show()\n",
    "\n",
    "\n",
    "# 2 次元高速フーリエ変換で周波数領域の情報を取り出す\n",
    "f_uv = np.fft.fft2(arr)\n",
    "# 画像の中心に低周波数の成分がくるように並べかえる\n",
    "shifted_f_uv = np.fft.fftshift(f_uv)\n",
    "# パワースペクトルに変換する\n",
    "magnitude_spectrum2d = 20 * np.log(np.abs(shifted_f_uv))\n",
    "#magnitude_spectrum2d = 20 * np.log(np.abs(shifted_f_uv)**2)\n",
    "#print(magnitude_spectrum2d)\n",
    "\n",
    "plt.imshow(magnitude_spectrum2d, cmap='gray')\n",
    "plt.colorbar()\n",
    "plt.show()"
   ]
  },
  {
   "cell_type": "code",
   "execution_count": null,
   "metadata": {},
   "outputs": [],
   "source": []
  }
 ],
 "metadata": {
  "language_info": {
   "name": "python"
  },
  "orig_nbformat": 4
 },
 "nbformat": 4,
 "nbformat_minor": 2
}
